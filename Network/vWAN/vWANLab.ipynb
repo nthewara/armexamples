{
 "cells": [
  {
   "cell_type": "markdown",
   "metadata": {},
   "source": [
    "# Virtual WAN Lab Environment "
   ]
  },
  {
   "cell_type": "markdown",
   "metadata": {},
   "source": [
    "### First Step is to declare variables"
   ]
  },
  {
   "cell_type": "code",
   "execution_count": 3,
   "metadata": {},
   "outputs": [],
   "source": [
    "$envprefix = 'ntvwan26'\n",
    "$vmprefix = 'nt2'\n",
    "$rgName = 'rg'+$envprefix\n",
    "$vm1Name = $vmprefix+'vm1'\n",
    "$nsg1name = $vmprefix+'-nsg1'\n",
    "$pip1name =$vmprefix+'-pip1'\n",
    "$vm2Name = $vmprefix+'vm2'\n",
    "$nsg2name = $vmprefix+'-nsg2'\n",
    "$pip2name =$vmprefix+'-pip2'\n",
    "$rglocation = 'australiaeast'\n",
    "$virtualWanName = $envprefix+'-vwan'\n",
    "$virtualHub1Name = $envprefix+'Hub1'\n",
    "$virtualHub2Name = $envprefix+'Hub2'\n",
    "$virtualhub1addprefix = '10.60.0.0/24'\n",
    "$virtualhub2addprefix = '10.70.0.0/24'\n",
    "$virtualhub2location = 'southeastasia'\n",
    "$remoteVirtualNetwork1Name = $envprefix+'vnet1'\n",
    "$remoteVirtualNetwork1addprefix = '10.61.0.0/24'\n",
    "$remoteVirtualNetwork2Name = $envprefix+'vnet2'\n",
    "$remoteVirtualNetwork2addprefix = '10.71.0.0/24'\n",
    "$hubVnetConnection1Name = 'Hub1Connection'\n",
    "$hubVnetConnection2Name = 'Hub2Connection'\n",
    "$VMLocalAdminUser = (Get-AzKeyVaultSecret -vaultName \"USAZE-MSFTINT-PRD-KVLT01\" -name \"username\").SecretValueText\n",
    "$VMLocalAdminSecurePassword = ConvertTo-SecureString (Get-AzKeyVaultSecret -vaultName \"USAZE-MSFTINT-PRD-KVLT01\" `\n",
    "                                 -name \"password\").SecretValueText -AsPlainText -Force\n",
    "$Credential = New-Object System.Management.Automation.PSCredential ($VMLocalAdminUser, $VMLocalAdminSecurePassword)\n"
   ]
  },
  {
   "cell_type": "markdown",
   "metadata": {},
   "source": [
    "### Next step is to create a resource group"
   ]
  },
  {
   "cell_type": "code",
   "execution_count": 5,
   "metadata": {},
   "outputs": [
    {
     "name": "stdout",
     "output_type": "stream",
     "text": [
      "\n",
      "\u001b[95mConfirm\u001b[0m\n",
      "Provided resource group already exists. Are you sure you want to update it?\n",
      "\u001b[93m[Y] Yes  \u001b[0m\u001b[95m[N] No  \u001b[0m\u001b[95m[S] Suspend  \u001b[0m[?] Help(default is 'Y')Select: Y\n"
     ]
    }
   ],
   "source": [
    "$resourceGroup = New-AzResourceGroup -Name $rgName -Location $rglocation"
   ]
  },
  {
   "cell_type": "markdown",
   "metadata": {},
   "source": [
    "### Create Two VNETs. One in Sydney and One in Singapore\n"
   ]
  },
  {
   "cell_type": "code",
   "execution_count": 6,
   "metadata": {},
   "outputs": [
    {
     "name": "stdout",
     "output_type": "stream",
     "text": [
      "\u001b[93mWARNING: Breaking changes in the cmdlet 'New-AzVirtualNetworkSubnetConfig' :\u001b[0m\n",
      "\u001b[93mWARNING:  - Update Property Name\n",
      "\n",
      "\u001b[0m\n",
      "\u001b[93mWARNING: Cmdlet invocation changes :\n",
      "\tOld Way : -ResourceId\n",
      "\tNew Way : -NatGatewayId\u001b[0m\n",
      "\u001b[93mWARNING:  - Update Property Name\n",
      "\n",
      "\u001b[0m\n",
      "\u001b[93mWARNING: Cmdlet invocation changes :\n",
      "\tOld Way : -InputObject\n",
      "\tNew Way : -NatGateway\u001b[0m\n",
      "\u001b[93mWARNING: NOTE : Go to https://aka.ms/azps-changewarnings for steps to suppress this breaking change warning, and other information on breaking changes in Azure PowerShell.\u001b[0m\n",
      "\u001b[93mWARNING: Breaking changes in the cmdlet 'New-AzVirtualNetworkSubnetConfig' :\u001b[0m\n",
      "\u001b[93mWARNING:  - Update Property Name\n",
      "\n",
      "\u001b[0m\n",
      "\u001b[93mWARNING: Cmdlet invocation changes :\n",
      "\tOld Way : -ResourceId\n",
      "\tNew Way : -NatGatewayId\u001b[0m\n",
      "\u001b[93mWARNING:  - Update Property Name\n",
      "\n",
      "\u001b[0m\n",
      "\u001b[93mWARNING: Cmdlet invocation changes :\n",
      "\tOld Way : -InputObject\n",
      "\tNew Way : -NatGateway\u001b[0m\n",
      "\u001b[93mWARNING: NOTE : Go to https://aka.ms/azps-changewarnings for steps to suppress this breaking change warning, and other information on breaking changes in Azure PowerShell.\u001b[0m\n"
     ]
    }
   ],
   "source": [
    "$remoteVirtualNetworksubnet1 = New-AzVirtualNetworkSubnetConfig `\n",
    "    -Name 'Apps' `\n",
    "    -AddressPrefix $remoteVirtualNetwork1addprefix\n",
    "\n",
    "$remoteVirtualNetwork1 = New-AzVirtualNetwork `\n",
    "    -ResourceGroupName $rgName `\n",
    "    -Name $remoteVirtualNetwork1Name `\n",
    "    -Location $rglocation `\n",
    "    -AddressPrefix $remoteVirtualNetwork1addprefix `\n",
    "    -Subnet $remoteVirtualNetworksubnet1\n",
    "\n",
    "$remoteVirtualNetworksubnet2 = New-AzVirtualNetworkSubnetConfig `\n",
    "    -Name 'Apps' `\n",
    "    -AddressPrefix $remoteVirtualNetwork2addprefix\n",
    "\n",
    "$remoteVirtualNetwork2 = New-AzVirtualNetwork `\n",
    "    -ResourceGroupName $rgName `\n",
    "    -Name $remoteVirtualNetwork2Name `\n",
    "    -Location $virtualhub2location `\n",
    "    -AddressPrefix $remoteVirtualNetwork2addprefix `\n",
    "    -Subnet $remoteVirtualNetworksubnet2"
   ]
  },
  {
   "cell_type": "markdown",
   "metadata": {},
   "source": [
    "### Create Virtual WAN Hubs, one in Singapore and one in Sydney"
   ]
  },
  {
   "cell_type": "code",
   "execution_count": 7,
   "metadata": {},
   "outputs": [],
   "source": [
    "$createdVirtualWan = New-AzVirtualWan -ResourceGroupName $rgName `\n",
    "    -Name $virtualWanName `\n",
    "    -Location $rglocation `\n",
    "    -AllowVnetToVnetTraffic `\n",
    "    -AllowBranchToBranchTraffic\n"
   ]
  },
  {
   "cell_type": "code",
   "execution_count": 8,
   "metadata": {},
   "outputs": [],
   "source": [
    "$virtualWan = Get-AzVirtualWan `\n",
    "    -ResourceGroupName $rgName `\n",
    "    -Name $virtualWanName"
   ]
  },
  {
   "cell_type": "markdown",
   "metadata": {},
   "source": [
    "### Create Virtual WAN Hub in Sydney "
   ]
  },
  {
   "cell_type": "code",
   "execution_count": 10,
   "metadata": {},
   "outputs": [],
   "source": [
    "$createdVirtualHub = New-AzVirtualHub `\n",
    "    -ResourceGroupName $rgName `\n",
    "    -Name $virtualHub1Name `\n",
    "    -Location $rglocation `\n",
    "    -AddressPrefix $virtualhub1addprefix `\n",
    "    -VirtualWan $virtualWan -AsJob\n"
   ]
  },
  {
   "cell_type": "markdown",
   "metadata": {},
   "source": [
    "### Create Virtual WAN Hub in Singapore"
   ]
  },
  {
   "cell_type": "code",
   "execution_count": 11,
   "metadata": {},
   "outputs": [],
   "source": [
    "$createdVirtualHub = New-AzVirtualHub `\n",
    "    -ResourceGroupName $rgName `\n",
    "    -Name $virtualHub2Name `\n",
    "    -Location $virtualhub2location `\n",
    "    -AddressPrefix $virtualhub2addprefix `\n",
    "    -VirtualWan $virtualWan -AsJob"
   ]
  },
  {
   "cell_type": "code",
   "execution_count": 14,
   "metadata": {},
   "outputs": [
    {
     "name": "stdout",
     "output_type": "stream",
     "text": [
      "\n",
      "Id     Name            PSJobTypeName   State         HasMoreData     Location             Command\n",
      "--     ----            -------------   -----         -----------     --------             -------\n",
      "1      Long Running O… AzureLongRunni… Running       True            localhost            New-AzVi…\n",
      "2      Long Running O… AzureLongRunni… Running       True            localhost            New-AzVi…\n",
      "\n"
     ]
    }
   ],
   "source": [
    "get-job"
   ]
  },
  {
   "cell_type": "markdown",
   "metadata": {},
   "source": [
    "### Create VM in Sydney "
   ]
  },
  {
   "cell_type": "code",
   "execution_count": 15,
   "metadata": {},
   "outputs": [
    {
     "name": "stdout",
     "output_type": "stream",
     "text": [
      "\n",
      "Id     Name            PSJobTypeName   State         HasMoreData     Location             Command\n",
      "--     ----            -------------   -----         -----------     --------             -------\n",
      "3      Long Running O… AzureLongRunni… Running       True            localhost            New-AzVM\n",
      "\n"
     ]
    }
   ],
   "source": [
    "New-AzVm `\n",
    "    -ResourceGroupName $rgName `\n",
    "    -Name $vm1Name `\n",
    "    -Location $rglocation `\n",
    "    -VirtualNetworkName $remoteVirtualNetwork1Name `\n",
    "    -SubnetName \"Apps\" `\n",
    "    -SecurityGroupName $nsg1name `\n",
    "    -PublicIpAddressName $pip1name `\n",
    "    -Size \"Standard_B2ms\" `\n",
    "    -Image \"UbuntuLTS\" `\n",
    "    -OpenPorts 22 `\n",
    "    -Credential $Credential `\n",
    "    -AsJob"
   ]
  },
  {
   "cell_type": "markdown",
   "metadata": {},
   "source": [
    "### Create VM in Singapore"
   ]
  },
  {
   "cell_type": "code",
   "execution_count": 16,
   "metadata": {},
   "outputs": [
    {
     "name": "stdout",
     "output_type": "stream",
     "text": [
      "\n",
      "Id     Name            PSJobTypeName   State         HasMoreData     Location             Command\n",
      "--     ----            -------------   -----         -----------     --------             -------\n",
      "4      Long Running O… AzureLongRunni… Running       True            localhost            New-AzVM\n",
      "\n"
     ]
    }
   ],
   "source": [
    "New-AzVm `\n",
    "    -ResourceGroupName $rgName `\n",
    "    -Name $vm2Name `\n",
    "    -Location $virtualhub2location `\n",
    "    -VirtualNetworkName $remoteVirtualNetwork2Name `\n",
    "    -SubnetName \"Apps\" `\n",
    "    -SecurityGroupName $nsg2name `\n",
    "    -PublicIpAddressName $pip2name `\n",
    "    -Size \"Standard_B2ms\" `\n",
    "    -Image \"UbuntuLTS\" `\n",
    "    -OpenPorts 22 `\n",
    "    -Credential $Credential `\n",
    "    -AsJob\n"
   ]
  },
  {
   "cell_type": "markdown",
   "metadata": {},
   "source": [
    "### Create VNET Connection with Virtual WAN Hub "
   ]
  },
  {
   "cell_type": "code",
   "execution_count": 17,
   "metadata": {},
   "outputs": [],
   "source": [
    "$createdHubVnetConnection1 = New-AzVirtualHubVnetConnection `\n",
    "    -ResourceGroupName $rgName `\n",
    "    -VirtualHubName $virtualHub1Name `\n",
    "    -Name $hubVnetConnection1Name `\n",
    "    -RemoteVirtualNetwork $remoteVirtualNetwork1 `\n",
    "    -AsJob"
   ]
  },
  {
   "cell_type": "markdown",
   "metadata": {},
   "source": [
    "### Create VNET Connection with Virtual WAN Hub "
   ]
  },
  {
   "cell_type": "code",
   "execution_count": 18,
   "metadata": {},
   "outputs": [],
   "source": [
    "$createdHubVnetConnection2 = New-AzVirtualHubVnetConnection `\n",
    "    -ResourceGroupName $rgName `\n",
    "    -VirtualHubName $virtualHub2Name `\n",
    "    -Name $hubVnetConnection2Name `\n",
    "    -RemoteVirtualNetwork $remoteVirtualNetwork2 `\n",
    "    -AsJob"
   ]
  },
  {
   "cell_type": "code",
   "execution_count": 24,
   "metadata": {},
   "outputs": [],
   "source": [
    "$jobs = get-job"
   ]
  },
  {
   "cell_type": "code",
   "execution_count": null,
   "metadata": {},
   "outputs": [],
   "source": []
  },
  {
   "cell_type": "code",
   "execution_count": null,
   "metadata": {},
   "outputs": [],
   "source": []
  }
 ],
 "metadata": {
  "kernelspec": {
   "display_name": ".NET (PowerShell)",
   "language": "PowerShell",
   "name": ".net-powershell"
  },
  "language_info": {
   "file_extension": ".ps1",
   "mimetype": "text/x-powershell",
   "name": "PowerShell",
   "pygments_lexer": "powershell",
   "version": "7.0"
  }
 },
 "nbformat": 4,
 "nbformat_minor": 4
}
