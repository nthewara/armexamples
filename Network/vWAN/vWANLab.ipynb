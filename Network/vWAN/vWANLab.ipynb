{
 "cells": [
  {
   "cell_type": "markdown",
   "metadata": {},
   "source": [
    "# Virtual WAN Lab Environment "
   ]
  },
  {
   "cell_type": "markdown",
   "metadata": {},
   "source": [
    "### First Step is to declare variables"
   ]
  },
  {
   "cell_type": "code",
   "execution_count": 3,
   "metadata": {},
   "outputs": [],
   "source": [
    "$envprefix = 'ntvwan26'\n",
    "$vmprefix = 'nt2'\n",
    "$rgName = 'rg'+$envprefix\n",
    "$vm1Name = $vmprefix+'vm1'\n",
    "$nsg1name = $vmprefix+'-nsg1'\n",
    "$pip1name =$vmprefix+'-pip1'\n",
    "$vm2Name = $vmprefix+'vm2'\n",
    "$nsg2name = $vmprefix+'-nsg2'\n",
    "$pip2name =$vmprefix+'-pip2'\n",
    "$rglocation = 'australiaeast'\n",
    "$virtualWanName = $envprefix+'-vwan'\n",
    "$virtualHub1Name = $envprefix+'Hub1'\n",
    "$virtualHub2Name = $envprefix+'Hub2'\n",
    "$virtualhub1addprefix = '10.60.0.0/24'\n",
    "$virtualhub2addprefix = '10.70.0.0/24'\n",
    "$virtualhub2location = 'southeastasia'\n",
    "$remoteVirtualNetwork1Name = $envprefix+'vnet1'\n",
    "$remoteVirtualNetwork1addprefix = '10.61.0.0/24'\n",
    "$remoteVirtualNetwork2Name = $envprefix+'vnet2'\n",
    "$remoteVirtualNetwork2addprefix = '10.71.0.0/24'\n",
    "$hubVnetConnection1Name = 'Hub1Connection'\n",
    "$hubVnetConnection2Name = 'Hub2Connection'\n",
    "$VMLocalAdminUser = (Get-AzKeyVaultSecret -vaultName \"USAZE-MSFTINT-PRD-KVLT01\" -name \"username\").SecretValueText\n",
    "$VMLocalAdminSecurePassword = ConvertTo-SecureString (Get-AzKeyVaultSecret -vaultName \"USAZE-MSFTINT-PRD-KVLT01\" `\n",
    "                                 -name \"password\").SecretValueText -AsPlainText -Force\n",
    "$Credential = New-Object System.Management.Automation.PSCredential ($VMLocalAdminUser, $VMLocalAdminSecurePassword)\n"
   ]
  },
  {
   "cell_type": "markdown",
   "metadata": {},
   "source": [
    "### Next step is to create a resource group"
   ]
  },
  {
   "cell_type": "code",
   "execution_count": 5,
   "metadata": {},
   "outputs": [
    {
     "name": "stdout",
     "output_type": "stream",
     "text": [
      "\n",
      "\u001b[95mConfirm\u001b[0m\n",
      "Provided resource group already exists. Are you sure you want to update it?\n",
      "\u001b[93m[Y] Yes  \u001b[0m\u001b[95m[N] No  \u001b[0m\u001b[95m[S] Suspend  \u001b[0m[?] Help(default is 'Y')Select: Y\n"
     ]
    }
   ],
   "source": [
    "$resourceGroup = New-AzResourceGroup -Name $rgName -Location $rglocation"
   ]
  },
  {
   "cell_type": "markdown",
   "metadata": {},
   "source": [
    "### Create Two VNETs. One in Sydney and One in Singapore\n"
   ]
  },
  {
   "cell_type": "code",
   "execution_count": null,
   "metadata": {},
   "outputs": [],
   "source": []
  }
 ],
 "metadata": {
  "kernelspec": {
   "display_name": ".NET (PowerShell)",
   "language": "PowerShell",
   "name": ".net-powershell"
  },
  "language_info": {
   "file_extension": ".ps1",
   "mimetype": "text/x-powershell",
   "name": "PowerShell",
   "pygments_lexer": "powershell",
   "version": "7.0"
  }
 },
 "nbformat": 4,
 "nbformat_minor": 4
}
