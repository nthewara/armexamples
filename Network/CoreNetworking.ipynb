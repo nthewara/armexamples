{
 "cells": [
  {
   "cell_type": "markdown",
   "metadata": {},
   "source": [
    "### Lab environment for testing BGP and other core networking concepts"
   ]
  },
  {
   "cell_type": "markdown",
   "metadata": {},
   "source": [
    "#### Register Cisco CSR Marketplace"
   ]
  },
  {
   "cell_type": "code",
   "execution_count": 6,
   "metadata": {
    "collapsed": true
   },
   "outputs": [
    {
     "name": "stdout",
     "output_type": "stream",
     "text": [
      "\n",
      "Publisher         : cisco\n",
      "Product           : cisco-csr-1000v\n",
      "Plan              : 17_2_1-byol\n",
      "LicenseTextLink   : https://storelegalterms.blob.core.windows.net/legalterms/3E5ED_legalterms_CISCO\n",
      "                    %253a24CISCO%253a2DCSR%253a2D1000V%253a2417%253a5F2%253a5F1%253a2DBYOL%253a2477\n",
      "                    U6PNHCGQDDCTQQH4O5ORD4JNNMDI4KUNCXIWWEOQNAAWCLDHMSJ5TLU3M3P4OSOTTPRU2XUSYWPQJ3Y\n",
      "                    Q5BIQKGDSJSI5AQTNYK55Q.txt\n",
      "PrivacyPolicyLink : http://www.cisco.com/web/siteassets/legal/privacy.html\n",
      "Signature         : ZBLXFFF5BLZPTFKBD545TKNRZXVQIMGONUXA6RFG5LYJ6TJ5HDU7BCD2MGDIYJHA3URT3QNTRYDBJJF\n",
      "                    SCUB4S4QP4GV2T2J6BIUIN3A\n",
      "Accepted          : True\n",
      "Signdate          : 19/07/2020 7:12:18 AM\n",
      "\n",
      "\n"
     ]
    }
   ],
   "source": [
    "Get-AzMarketplaceTerms -Publisher \"Cisco\" -Product \"cisco-csr-1000v\" -Name \"17_2_1-byol\" | Set-AzMarketplaceTerms -Accept"
   ]
  },
  {
   "cell_type": "markdown",
   "metadata": {},
   "source": [
    "Create Resource Group, VNET and Subnets b"
   ]
  }
 ],
 "metadata": {
  "kernelspec": {
   "display_name": ".NET (PowerShell)",
   "language": "PowerShell",
   "name": ".net-powershell"
  },
  "language_info": {
   "file_extension": ".ps1",
   "mimetype": "text/x-powershell",
   "name": "PowerShell",
   "pygments_lexer": "powershell",
   "version": "7.0"
  }
 },
 "nbformat": 4,
 "nbformat_minor": 4
}
