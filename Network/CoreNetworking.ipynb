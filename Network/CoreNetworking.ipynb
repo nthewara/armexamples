{
 "cells": [
  {
   "cell_type": "markdown",
   "metadata": {},
   "source": [
    "### Lab environment for testing BGP and other core networking concepts"
   ]
  },
  {
   "cell_type": "markdown",
   "metadata": {},
   "source": [
    "### Variables"
   ]
  },
  {
   "cell_type": "code",
   "execution_count": 9,
   "metadata": {},
   "outputs": [],
   "source": [
    "$envprefix = 'ntnet11'\n",
    "$rgName = 'rg'+$envprefix\n",
    "$rglocation = 'australiaeast'\n",
    "$remoteVirtualNetwork1Name = $envprefix+'vnet1'\n",
    "$remoteVirtualNetwork1addprefix = '10.0.0.0/16'\n",
    "$remoteVirtualSubnet1addprefix = '10.0.0.0/24'\n"
   ]
  },
  {
   "cell_type": "markdown",
   "metadata": {},
   "source": [
    "#### Register Cisco CSR Marketplace"
   ]
  },
  {
   "cell_type": "code",
   "execution_count": null,
   "metadata": {},
   "outputs": [],
   "source": [
    "Get-AzMarketplaceTerms -Publisher \"Cisco\" -Product \"cisco-csr-1000v\" -Name \"17_2_1-byol\" | Set-AzMarketplaceTerms -Accept"
   ]
  },
  {
   "cell_type": "markdown",
   "metadata": {},
   "source": [
    "#### Create Resource Group, VNET and Subnets"
   ]
  },
  {
   "cell_type": "code",
   "execution_count": null,
   "metadata": {},
   "outputs": [],
   "source": [
    "$resourceGroup = New-AzResourceGroup -Name $rgName -Location $rglocation\n",
    "$remoteVirtualNetworksubnet1 = New-AzVirtualNetworkSubnetConfig `\n",
    "    -Name 'GatewaySubnet' `\n",
    "    -AddressPrefix $remoteVirtualNetwork1addprefix\n",
    "\n",
    "$remoteVirtualNetwork1 = New-AzVirtualNetwork `\n",
    "    -ResourceGroupName $rgName `\n",
    "    -Name $remoteVirtualNetwork1Name `\n",
    "    -Location $rglocation `\n",
    "    -AddressPrefix $remoteVirtualNetwork1addprefix `\n",
    "    -Subnet $remoteVirtualNetworksubnet1\n"
   ]
  }
 ],
 "metadata": {
  "kernelspec": {
   "display_name": ".NET (PowerShell)",
   "language": "PowerShell",
   "name": ".net-powershell"
  },
  "language_info": {
   "file_extension": ".ps1",
   "mimetype": "text/x-powershell",
   "name": "PowerShell",
   "pygments_lexer": "powershell",
   "version": "7.0"
  }
 },
 "nbformat": 4,
 "nbformat_minor": 4
}
