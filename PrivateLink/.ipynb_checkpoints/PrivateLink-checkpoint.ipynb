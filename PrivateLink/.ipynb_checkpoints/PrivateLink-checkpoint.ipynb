{
 "cells": [
  {
   "cell_type": "markdown",
   "metadata": {},
   "source": [
    "### Lab Environment for PrivateLink. \n",
    "\n",
    "We will initially start with Storage Account and then look at more complex examples such as Azure Monitor. "
   ]
  },
  {
   "cell_type": "markdown",
   "metadata": {},
   "source": [
    "### Planning and Architecture - Placeholder"
   ]
  },
  {
   "cell_type": "markdown",
   "metadata": {},
   "source": [
    "### Variables\n"
   ]
  },
  {
   "cell_type": "code",
   "execution_count": 4,
   "metadata": {},
   "outputs": [],
   "source": [
    "$envprefix = 'ntvstg1'\n",
    "$rgName = 'rg'+$envprefix\n",
    "$rglocation = 'australiaeast'"
   ]
  },
  {
   "cell_type": "markdown",
   "metadata": {},
   "source": [
    "### Create Resource Group"
   ]
  },
  {
   "cell_type": "code",
   "execution_count": 5,
   "metadata": {},
   "outputs": [
    {
     "name": "stdout",
     "output_type": "stream",
     "text": [
      "\n",
      "ResourceGroupName : rgntvstg1\n",
      "Location          : australiaeast\n",
      "ProvisioningState : Succeeded\n",
      "Tags              : \n",
      "ResourceId        : /subscriptions/51d06b2f-9c98-4502-9329-1ec41fed64c7/resourceGroups/rgntvstg1\n",
      "\n",
      "\n"
     ]
    }
   ],
   "source": [
    "New-AzResourceGroup -Name $rgName -Location $rglocation"
   ]
  },
  {
   "cell_type": "markdown",
   "metadata": {},
   "source": [
    "### Create Storage Account"
   ]
  },
  {
   "cell_type": "code",
   "execution_count": null,
   "metadata": {},
   "outputs": [],
   "source": [
    "New-AzStorageAccount -ResourceGroupName $rgName `\n",
    "  -Name <account-name> `\n",
    "  -Location $rglocation `\n",
    "  -SkuName Standard_lrs `\n",
    "  -Kind StorageV2"
   ]
  }
 ],
 "metadata": {
  "kernelspec": {
   "display_name": ".NET (PowerShell)",
   "language": "PowerShell",
   "name": ".net-powershell"
  },
  "language_info": {
   "file_extension": ".ps1",
   "mimetype": "text/x-powershell",
   "name": "PowerShell",
   "pygments_lexer": "powershell",
   "version": "7.0"
  }
 },
 "nbformat": 4,
 "nbformat_minor": 4
}
